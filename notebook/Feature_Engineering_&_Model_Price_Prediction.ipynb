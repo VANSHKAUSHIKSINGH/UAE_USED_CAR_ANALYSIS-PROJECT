{
 "cells": [
  {
   "cell_type": "markdown",
   "id": "106d8e66",
   "metadata": {},
   "source": [
    "## Data Pre-Processing\n",
    "\n",
    "\n",
    "### Import Packages and CSV\n"
   ]
  },
  {
   "cell_type": "code",
   "execution_count": 1,
   "id": "f8c4b47c",
   "metadata": {},
   "outputs": [],
   "source": [
    "import pandas as pd\n",
    "import numpy as np\n",
    "import matplotlib.pyplot as plt\n",
    "import seaborn as sns\n",
    "import warnings\n",
    "warnings.filterwarnings(\"ignore\")\n",
    "# Create Dataframe\n"
   ]
  },
  {
   "cell_type": "code",
   "execution_count": 2,
   "id": "ba21ff0c",
   "metadata": {},
   "outputs": [
    {
     "data": {
      "text/html": [
       "<div>\n",
       "<style scoped>\n",
       "    .dataframe tbody tr th:only-of-type {\n",
       "        vertical-align: middle;\n",
       "    }\n",
       "\n",
       "    .dataframe tbody tr th {\n",
       "        vertical-align: top;\n",
       "    }\n",
       "\n",
       "    .dataframe thead th {\n",
       "        text-align: right;\n",
       "    }\n",
       "</style>\n",
       "<table border=\"1\" class=\"dataframe\">\n",
       "  <thead>\n",
       "    <tr style=\"text-align: right;\">\n",
       "      <th></th>\n",
       "      <th>Make</th>\n",
       "      <th>Model</th>\n",
       "      <th>Year</th>\n",
       "      <th>Price</th>\n",
       "      <th>Mileage</th>\n",
       "      <th>Body_Type</th>\n",
       "      <th>Cylinders</th>\n",
       "      <th>Transmission</th>\n",
       "      <th>Fuel_Type</th>\n",
       "      <th>Color</th>\n",
       "      <th>Location</th>\n",
       "      <th>Description</th>\n",
       "    </tr>\n",
       "  </thead>\n",
       "  <tbody>\n",
       "    <tr>\n",
       "      <th>0</th>\n",
       "      <td>toyota</td>\n",
       "      <td>camry</td>\n",
       "      <td>2016</td>\n",
       "      <td>47819</td>\n",
       "      <td>156500</td>\n",
       "      <td>Sedan</td>\n",
       "      <td>4</td>\n",
       "      <td>Automatic Transmission</td>\n",
       "      <td>Gasoline</td>\n",
       "      <td>Black</td>\n",
       "      <td>Dubai</td>\n",
       "      <td>2016 toyota camry with Rear camera, Leather se...</td>\n",
       "    </tr>\n",
       "    <tr>\n",
       "      <th>1</th>\n",
       "      <td>kia</td>\n",
       "      <td>sorento</td>\n",
       "      <td>2013</td>\n",
       "      <td>61250</td>\n",
       "      <td>169543</td>\n",
       "      <td>SUV</td>\n",
       "      <td>4</td>\n",
       "      <td>Automatic Transmission</td>\n",
       "      <td>Gasoline</td>\n",
       "      <td>Grey</td>\n",
       "      <td>Abu Dhabi</td>\n",
       "      <td>2013 kia sorento with Sunroof, Adaptive cruise...</td>\n",
       "    </tr>\n",
       "    <tr>\n",
       "      <th>2</th>\n",
       "      <td>mini</td>\n",
       "      <td>cooper</td>\n",
       "      <td>2023</td>\n",
       "      <td>31861</td>\n",
       "      <td>221583</td>\n",
       "      <td>Soft Top Convertible</td>\n",
       "      <td>4</td>\n",
       "      <td>Automatic Transmission</td>\n",
       "      <td>Gasoline</td>\n",
       "      <td>Grey</td>\n",
       "      <td>Dubai</td>\n",
       "      <td>2023 mini cooper with Adaptive cruise control,...</td>\n",
       "    </tr>\n",
       "    <tr>\n",
       "      <th>3</th>\n",
       "      <td>nissan</td>\n",
       "      <td>altima</td>\n",
       "      <td>2016</td>\n",
       "      <td>110322</td>\n",
       "      <td>69754</td>\n",
       "      <td>Sedan</td>\n",
       "      <td>4</td>\n",
       "      <td>Automatic Transmission</td>\n",
       "      <td>Gasoline</td>\n",
       "      <td>Red</td>\n",
       "      <td>Dubai</td>\n",
       "      <td>2016 nissan altima with Rear camera, Adaptive ...</td>\n",
       "    </tr>\n",
       "    <tr>\n",
       "      <th>4</th>\n",
       "      <td>toyota</td>\n",
       "      <td>land-cruiser-76-series</td>\n",
       "      <td>2020</td>\n",
       "      <td>139994</td>\n",
       "      <td>71399</td>\n",
       "      <td>Pick Up Truck</td>\n",
       "      <td>4</td>\n",
       "      <td>Manual Transmission</td>\n",
       "      <td>Gasoline</td>\n",
       "      <td>White</td>\n",
       "      <td>Dubai</td>\n",
       "      <td>2020 toyota land-cruiser-76-series with Adapti...</td>\n",
       "    </tr>\n",
       "  </tbody>\n",
       "</table>\n",
       "</div>"
      ],
      "text/plain": [
       "     Make                   Model  Year   Price  Mileage  \\\n",
       "0  toyota                   camry  2016   47819   156500   \n",
       "1     kia                 sorento  2013   61250   169543   \n",
       "2    mini                  cooper  2023   31861   221583   \n",
       "3  nissan                  altima  2016  110322    69754   \n",
       "4  toyota  land-cruiser-76-series  2020  139994    71399   \n",
       "\n",
       "              Body_Type Cylinders            Transmission Fuel_Type  Color  \\\n",
       "0                 Sedan         4  Automatic Transmission  Gasoline  Black   \n",
       "1                   SUV         4  Automatic Transmission  Gasoline   Grey   \n",
       "2  Soft Top Convertible         4  Automatic Transmission  Gasoline   Grey   \n",
       "3                 Sedan         4  Automatic Transmission  Gasoline    Red   \n",
       "4         Pick Up Truck         4     Manual Transmission  Gasoline  White   \n",
       "\n",
       "     Location                                        Description  \n",
       "0       Dubai  2016 toyota camry with Rear camera, Leather se...  \n",
       "1   Abu Dhabi  2013 kia sorento with Sunroof, Adaptive cruise...  \n",
       "2       Dubai  2023 mini cooper with Adaptive cruise control,...  \n",
       "3       Dubai  2016 nissan altima with Rear camera, Adaptive ...  \n",
       "4       Dubai  2020 toyota land-cruiser-76-series with Adapti...  "
      ]
     },
     "execution_count": 2,
     "metadata": {},
     "output_type": "execute_result"
    }
   ],
   "source": [
    "df = pd.read_csv(\"data/uae_used_cars_10k.csv\")\n",
    "df.head()"
   ]
  },
  {
   "cell_type": "code",
   "execution_count": 3,
   "id": "030df912",
   "metadata": {},
   "outputs": [
    {
     "data": {
      "text/plain": [
       "(10000, 12)"
      ]
     },
     "execution_count": 3,
     "metadata": {},
     "output_type": "execute_result"
    }
   ],
   "source": [
    "df.shape"
   ]
  },
  {
   "cell_type": "markdown",
   "id": "acf6df3a",
   "metadata": {},
   "source": [
    "### Data Cleaning\n",
    "\n",
    "#### Handling Missing values\n",
    "\n",
    "- Handling Missing values\n",
    "- Handling Duplicates\n",
    "- Check data type\n",
    "- Understand the dataset\n",
    "\n",
    "### Check Null Values"
   ]
  },
  {
   "cell_type": "code",
   "execution_count": 4,
   "id": "1d7baebc",
   "metadata": {},
   "outputs": [
    {
     "data": {
      "text/plain": [
       "Make              0\n",
       "Model             0\n",
       "Year              0\n",
       "Price             0\n",
       "Mileage           0\n",
       "Body_Type         0\n",
       "Cylinders       105\n",
       "Transmission      0\n",
       "Fuel_Type         0\n",
       "Color             0\n",
       "Location          0\n",
       "Description       0\n",
       "dtype: int64"
      ]
     },
     "execution_count": 4,
     "metadata": {},
     "output_type": "execute_result"
    }
   ],
   "source": [
    "df.isna().sum()"
   ]
  },
  {
   "cell_type": "code",
   "execution_count": 5,
   "id": "9dddb832",
   "metadata": {},
   "outputs": [],
   "source": [
    "df['Cylinders'] = pd.to_numeric(df['Cylinders'], errors='coerce').fillna(4).astype(int)"
   ]
  },
  {
   "cell_type": "code",
   "execution_count": 6,
   "id": "3f3b357d",
   "metadata": {},
   "outputs": [
    {
     "data": {
      "text/plain": [
       "Make            0\n",
       "Model           0\n",
       "Year            0\n",
       "Price           0\n",
       "Mileage         0\n",
       "Body_Type       0\n",
       "Cylinders       0\n",
       "Transmission    0\n",
       "Fuel_Type       0\n",
       "Color           0\n",
       "Location        0\n",
       "Description     0\n",
       "dtype: int64"
      ]
     },
     "execution_count": 6,
     "metadata": {},
     "output_type": "execute_result"
    }
   ],
   "source": [
    "df.isna().sum() "
   ]
  },
  {
   "cell_type": "markdown",
   "id": "f18e0b30",
   "metadata": {},
   "source": [
    "#### Hadling Duplicates"
   ]
  },
  {
   "cell_type": "code",
   "execution_count": 7,
   "id": "212ffbaa",
   "metadata": {},
   "outputs": [
    {
     "data": {
      "text/plain": [
       "np.int64(0)"
      ]
     },
     "execution_count": 7,
     "metadata": {},
     "output_type": "execute_result"
    }
   ],
   "source": [
    "df.duplicated().sum()"
   ]
  },
  {
   "cell_type": "markdown",
   "id": "e99d9948",
   "metadata": {},
   "source": [
    "#### Report\n",
    "- No Duplicates in Data"
   ]
  },
  {
   "cell_type": "markdown",
   "id": "f0db73fc",
   "metadata": {},
   "source": [
    "### Features Engineering"
   ]
  },
  {
   "cell_type": "code",
   "execution_count": 8,
   "id": "14665c08",
   "metadata": {},
   "outputs": [
    {
     "data": {
      "text/html": [
       "<div>\n",
       "<style scoped>\n",
       "    .dataframe tbody tr th:only-of-type {\n",
       "        vertical-align: middle;\n",
       "    }\n",
       "\n",
       "    .dataframe tbody tr th {\n",
       "        vertical-align: top;\n",
       "    }\n",
       "\n",
       "    .dataframe thead th {\n",
       "        text-align: right;\n",
       "    }\n",
       "</style>\n",
       "<table border=\"1\" class=\"dataframe\">\n",
       "  <thead>\n",
       "    <tr style=\"text-align: right;\">\n",
       "      <th></th>\n",
       "      <th>Make</th>\n",
       "      <th>Model</th>\n",
       "      <th>Year</th>\n",
       "      <th>Price</th>\n",
       "      <th>Mileage</th>\n",
       "      <th>Body_Type</th>\n",
       "      <th>Cylinders</th>\n",
       "      <th>Transmission</th>\n",
       "      <th>Fuel_Type</th>\n",
       "      <th>Color</th>\n",
       "      <th>Location</th>\n",
       "      <th>Description</th>\n",
       "    </tr>\n",
       "  </thead>\n",
       "  <tbody>\n",
       "    <tr>\n",
       "      <th>36</th>\n",
       "      <td>rolls-royce</td>\n",
       "      <td>phantom</td>\n",
       "      <td>2006</td>\n",
       "      <td>442922</td>\n",
       "      <td>107637</td>\n",
       "      <td>Sedan</td>\n",
       "      <td>12</td>\n",
       "      <td>Automatic Transmission</td>\n",
       "      <td>Gasoline</td>\n",
       "      <td>White</td>\n",
       "      <td>Dubai</td>\n",
       "      <td>2006 rolls-royce phantom with Sunroof, Rear ca...</td>\n",
       "    </tr>\n",
       "    <tr>\n",
       "      <th>139</th>\n",
       "      <td>rolls-royce</td>\n",
       "      <td>wraith</td>\n",
       "      <td>2023</td>\n",
       "      <td>884378</td>\n",
       "      <td>86067</td>\n",
       "      <td>Coupe</td>\n",
       "      <td>12</td>\n",
       "      <td>Automatic Transmission</td>\n",
       "      <td>Gasoline</td>\n",
       "      <td>Black</td>\n",
       "      <td>Dubai</td>\n",
       "      <td>2023 rolls-royce wraith with Sunroof, Adaptive...</td>\n",
       "    </tr>\n",
       "    <tr>\n",
       "      <th>255</th>\n",
       "      <td>rolls-royce</td>\n",
       "      <td>cullinan</td>\n",
       "      <td>2013</td>\n",
       "      <td>1981429</td>\n",
       "      <td>124899</td>\n",
       "      <td>SUV</td>\n",
       "      <td>12</td>\n",
       "      <td>Automatic Transmission</td>\n",
       "      <td>Gasoline</td>\n",
       "      <td>White</td>\n",
       "      <td>Dubai</td>\n",
       "      <td>2013 rolls-royce cullinan with Bluetooth, Leat...</td>\n",
       "    </tr>\n",
       "    <tr>\n",
       "      <th>312</th>\n",
       "      <td>rolls-royce</td>\n",
       "      <td>cullinan</td>\n",
       "      <td>2007</td>\n",
       "      <td>2062071</td>\n",
       "      <td>162118</td>\n",
       "      <td>SUV</td>\n",
       "      <td>12</td>\n",
       "      <td>Automatic Transmission</td>\n",
       "      <td>Gasoline</td>\n",
       "      <td>Red</td>\n",
       "      <td>Dubai</td>\n",
       "      <td>2007 rolls-royce cullinan with Navigation syst...</td>\n",
       "    </tr>\n",
       "    <tr>\n",
       "      <th>328</th>\n",
       "      <td>rolls-royce</td>\n",
       "      <td>ghost</td>\n",
       "      <td>2013</td>\n",
       "      <td>1384716</td>\n",
       "      <td>36406</td>\n",
       "      <td>Sedan</td>\n",
       "      <td>12</td>\n",
       "      <td>Automatic Transmission</td>\n",
       "      <td>Gasoline</td>\n",
       "      <td>Red</td>\n",
       "      <td>Dubai</td>\n",
       "      <td>2013 rolls-royce ghost with Sunroof, Bluetooth...</td>\n",
       "    </tr>\n",
       "    <tr>\n",
       "      <th>...</th>\n",
       "      <td>...</td>\n",
       "      <td>...</td>\n",
       "      <td>...</td>\n",
       "      <td>...</td>\n",
       "      <td>...</td>\n",
       "      <td>...</td>\n",
       "      <td>...</td>\n",
       "      <td>...</td>\n",
       "      <td>...</td>\n",
       "      <td>...</td>\n",
       "      <td>...</td>\n",
       "      <td>...</td>\n",
       "    </tr>\n",
       "    <tr>\n",
       "      <th>9532</th>\n",
       "      <td>rolls-royce</td>\n",
       "      <td>phantom</td>\n",
       "      <td>2015</td>\n",
       "      <td>2323259</td>\n",
       "      <td>49782</td>\n",
       "      <td>SUV</td>\n",
       "      <td>12</td>\n",
       "      <td>Automatic Transmission</td>\n",
       "      <td>Gasoline</td>\n",
       "      <td>Black</td>\n",
       "      <td>Dubai</td>\n",
       "      <td>2015 rolls-royce phantom with Bluetooth, Adapt...</td>\n",
       "    </tr>\n",
       "    <tr>\n",
       "      <th>9572</th>\n",
       "      <td>rolls-royce</td>\n",
       "      <td>wraith</td>\n",
       "      <td>2006</td>\n",
       "      <td>548526</td>\n",
       "      <td>161291</td>\n",
       "      <td>Coupe</td>\n",
       "      <td>12</td>\n",
       "      <td>Automatic Transmission</td>\n",
       "      <td>Gasoline</td>\n",
       "      <td>White</td>\n",
       "      <td>Dubai</td>\n",
       "      <td>2006 rolls-royce wraith with Rear camera, Navi...</td>\n",
       "    </tr>\n",
       "    <tr>\n",
       "      <th>9615</th>\n",
       "      <td>rolls-royce</td>\n",
       "      <td>wraith</td>\n",
       "      <td>2005</td>\n",
       "      <td>695428</td>\n",
       "      <td>266808</td>\n",
       "      <td>Coupe</td>\n",
       "      <td>12</td>\n",
       "      <td>Automatic Transmission</td>\n",
       "      <td>Gasoline</td>\n",
       "      <td>Black</td>\n",
       "      <td>Dubai</td>\n",
       "      <td>2005 rolls-royce wraith with Leather seats, Ad...</td>\n",
       "    </tr>\n",
       "    <tr>\n",
       "      <th>9789</th>\n",
       "      <td>rolls-royce</td>\n",
       "      <td>wraith</td>\n",
       "      <td>2006</td>\n",
       "      <td>1098639</td>\n",
       "      <td>191842</td>\n",
       "      <td>Coupe</td>\n",
       "      <td>12</td>\n",
       "      <td>Automatic Transmission</td>\n",
       "      <td>Gasoline</td>\n",
       "      <td>Red</td>\n",
       "      <td>Dubai</td>\n",
       "      <td>2006 rolls-royce wraith with Bluetooth, Sunroo...</td>\n",
       "    </tr>\n",
       "    <tr>\n",
       "      <th>9795</th>\n",
       "      <td>rolls-royce</td>\n",
       "      <td>cullinan</td>\n",
       "      <td>2007</td>\n",
       "      <td>2490793</td>\n",
       "      <td>70724</td>\n",
       "      <td>SUV</td>\n",
       "      <td>12</td>\n",
       "      <td>Automatic Transmission</td>\n",
       "      <td>Gasoline</td>\n",
       "      <td>White</td>\n",
       "      <td>Dubai</td>\n",
       "      <td>2007 rolls-royce cullinan with Adaptive cruise...</td>\n",
       "    </tr>\n",
       "  </tbody>\n",
       "</table>\n",
       "<p>141 rows × 12 columns</p>\n",
       "</div>"
      ],
      "text/plain": [
       "             Make     Model  Year    Price  Mileage Body_Type  Cylinders  \\\n",
       "36    rolls-royce   phantom  2006   442922   107637     Sedan         12   \n",
       "139   rolls-royce    wraith  2023   884378    86067     Coupe         12   \n",
       "255   rolls-royce  cullinan  2013  1981429   124899       SUV         12   \n",
       "312   rolls-royce  cullinan  2007  2062071   162118       SUV         12   \n",
       "328   rolls-royce     ghost  2013  1384716    36406     Sedan         12   \n",
       "...           ...       ...   ...      ...      ...       ...        ...   \n",
       "9532  rolls-royce   phantom  2015  2323259    49782       SUV         12   \n",
       "9572  rolls-royce    wraith  2006   548526   161291     Coupe         12   \n",
       "9615  rolls-royce    wraith  2005   695428   266808     Coupe         12   \n",
       "9789  rolls-royce    wraith  2006  1098639   191842     Coupe         12   \n",
       "9795  rolls-royce  cullinan  2007  2490793    70724       SUV         12   \n",
       "\n",
       "                Transmission Fuel_Type  Color Location  \\\n",
       "36    Automatic Transmission  Gasoline  White    Dubai   \n",
       "139   Automatic Transmission  Gasoline  Black    Dubai   \n",
       "255   Automatic Transmission  Gasoline  White    Dubai   \n",
       "312   Automatic Transmission  Gasoline    Red    Dubai   \n",
       "328   Automatic Transmission  Gasoline    Red    Dubai   \n",
       "...                      ...       ...    ...      ...   \n",
       "9532  Automatic Transmission  Gasoline  Black    Dubai   \n",
       "9572  Automatic Transmission  Gasoline  White    Dubai   \n",
       "9615  Automatic Transmission  Gasoline  Black    Dubai   \n",
       "9789  Automatic Transmission  Gasoline    Red    Dubai   \n",
       "9795  Automatic Transmission  Gasoline  White    Dubai   \n",
       "\n",
       "                                            Description  \n",
       "36    2006 rolls-royce phantom with Sunroof, Rear ca...  \n",
       "139   2023 rolls-royce wraith with Sunroof, Adaptive...  \n",
       "255   2013 rolls-royce cullinan with Bluetooth, Leat...  \n",
       "312   2007 rolls-royce cullinan with Navigation syst...  \n",
       "328   2013 rolls-royce ghost with Sunroof, Bluetooth...  \n",
       "...                                                 ...  \n",
       "9532  2015 rolls-royce phantom with Bluetooth, Adapt...  \n",
       "9572  2006 rolls-royce wraith with Rear camera, Navi...  \n",
       "9615  2005 rolls-royce wraith with Leather seats, Ad...  \n",
       "9789  2006 rolls-royce wraith with Bluetooth, Sunroo...  \n",
       "9795  2007 rolls-royce cullinan with Adaptive cruise...  \n",
       "\n",
       "[141 rows x 12 columns]"
      ]
     },
     "execution_count": 8,
     "metadata": {},
     "output_type": "execute_result"
    }
   ],
   "source": [
    "df.loc[df['Make']== 'rolls-royce']"
   ]
  },
  {
   "cell_type": "code",
   "execution_count": 9,
   "id": "fce9ee7e",
   "metadata": {},
   "outputs": [
    {
     "data": {
      "text/html": [
       "<div>\n",
       "<style scoped>\n",
       "    .dataframe tbody tr th:only-of-type {\n",
       "        vertical-align: middle;\n",
       "    }\n",
       "\n",
       "    .dataframe tbody tr th {\n",
       "        vertical-align: top;\n",
       "    }\n",
       "\n",
       "    .dataframe thead th {\n",
       "        text-align: right;\n",
       "    }\n",
       "</style>\n",
       "<table border=\"1\" class=\"dataframe\">\n",
       "  <thead>\n",
       "    <tr style=\"text-align: right;\">\n",
       "      <th></th>\n",
       "      <th>Make</th>\n",
       "      <th>Model</th>\n",
       "      <th>Year</th>\n",
       "      <th>Price</th>\n",
       "      <th>Mileage</th>\n",
       "      <th>Body_Type</th>\n",
       "      <th>Cylinders</th>\n",
       "      <th>Transmission</th>\n",
       "      <th>Fuel_Type</th>\n",
       "      <th>Color</th>\n",
       "      <th>Location</th>\n",
       "      <th>Description</th>\n",
       "      <th>Make_Model</th>\n",
       "    </tr>\n",
       "  </thead>\n",
       "  <tbody>\n",
       "    <tr>\n",
       "      <th>0</th>\n",
       "      <td>toyota</td>\n",
       "      <td>camry</td>\n",
       "      <td>2016</td>\n",
       "      <td>47819</td>\n",
       "      <td>156500</td>\n",
       "      <td>Sedan</td>\n",
       "      <td>4</td>\n",
       "      <td>Automatic Transmission</td>\n",
       "      <td>Gasoline</td>\n",
       "      <td>Black</td>\n",
       "      <td>Dubai</td>\n",
       "      <td>2016 toyota camry with Rear camera, Leather se...</td>\n",
       "      <td>toyota camry</td>\n",
       "    </tr>\n",
       "    <tr>\n",
       "      <th>1</th>\n",
       "      <td>kia</td>\n",
       "      <td>sorento</td>\n",
       "      <td>2013</td>\n",
       "      <td>61250</td>\n",
       "      <td>169543</td>\n",
       "      <td>SUV</td>\n",
       "      <td>4</td>\n",
       "      <td>Automatic Transmission</td>\n",
       "      <td>Gasoline</td>\n",
       "      <td>Grey</td>\n",
       "      <td>Abu Dhabi</td>\n",
       "      <td>2013 kia sorento with Sunroof, Adaptive cruise...</td>\n",
       "      <td>kia sorento</td>\n",
       "    </tr>\n",
       "    <tr>\n",
       "      <th>2</th>\n",
       "      <td>mini</td>\n",
       "      <td>cooper</td>\n",
       "      <td>2023</td>\n",
       "      <td>31861</td>\n",
       "      <td>221583</td>\n",
       "      <td>Soft Top Convertible</td>\n",
       "      <td>4</td>\n",
       "      <td>Automatic Transmission</td>\n",
       "      <td>Gasoline</td>\n",
       "      <td>Grey</td>\n",
       "      <td>Dubai</td>\n",
       "      <td>2023 mini cooper with Adaptive cruise control,...</td>\n",
       "      <td>mini cooper</td>\n",
       "    </tr>\n",
       "    <tr>\n",
       "      <th>3</th>\n",
       "      <td>nissan</td>\n",
       "      <td>altima</td>\n",
       "      <td>2016</td>\n",
       "      <td>110322</td>\n",
       "      <td>69754</td>\n",
       "      <td>Sedan</td>\n",
       "      <td>4</td>\n",
       "      <td>Automatic Transmission</td>\n",
       "      <td>Gasoline</td>\n",
       "      <td>Red</td>\n",
       "      <td>Dubai</td>\n",
       "      <td>2016 nissan altima with Rear camera, Adaptive ...</td>\n",
       "      <td>nissan altima</td>\n",
       "    </tr>\n",
       "    <tr>\n",
       "      <th>4</th>\n",
       "      <td>toyota</td>\n",
       "      <td>land-cruiser-76-series</td>\n",
       "      <td>2020</td>\n",
       "      <td>139994</td>\n",
       "      <td>71399</td>\n",
       "      <td>Pick Up Truck</td>\n",
       "      <td>4</td>\n",
       "      <td>Manual Transmission</td>\n",
       "      <td>Gasoline</td>\n",
       "      <td>White</td>\n",
       "      <td>Dubai</td>\n",
       "      <td>2020 toyota land-cruiser-76-series with Adapti...</td>\n",
       "      <td>toyota land-cruiser-76-series</td>\n",
       "    </tr>\n",
       "  </tbody>\n",
       "</table>\n",
       "</div>"
      ],
      "text/plain": [
       "     Make                   Model  Year   Price  Mileage  \\\n",
       "0  toyota                   camry  2016   47819   156500   \n",
       "1     kia                 sorento  2013   61250   169543   \n",
       "2    mini                  cooper  2023   31861   221583   \n",
       "3  nissan                  altima  2016  110322    69754   \n",
       "4  toyota  land-cruiser-76-series  2020  139994    71399   \n",
       "\n",
       "              Body_Type  Cylinders            Transmission Fuel_Type  Color  \\\n",
       "0                 Sedan          4  Automatic Transmission  Gasoline  Black   \n",
       "1                   SUV          4  Automatic Transmission  Gasoline   Grey   \n",
       "2  Soft Top Convertible          4  Automatic Transmission  Gasoline   Grey   \n",
       "3                 Sedan          4  Automatic Transmission  Gasoline    Red   \n",
       "4         Pick Up Truck          4     Manual Transmission  Gasoline  White   \n",
       "\n",
       "     Location                                        Description  \\\n",
       "0       Dubai  2016 toyota camry with Rear camera, Leather se...   \n",
       "1   Abu Dhabi  2013 kia sorento with Sunroof, Adaptive cruise...   \n",
       "2       Dubai  2023 mini cooper with Adaptive cruise control,...   \n",
       "3       Dubai  2016 nissan altima with Rear camera, Adaptive ...   \n",
       "4       Dubai  2020 toyota land-cruiser-76-series with Adapti...   \n",
       "\n",
       "                      Make_Model  \n",
       "0                   toyota camry  \n",
       "1                    kia sorento  \n",
       "2                    mini cooper  \n",
       "3                  nissan altima  \n",
       "4  toyota land-cruiser-76-series  "
      ]
     },
     "execution_count": 9,
     "metadata": {},
     "output_type": "execute_result"
    }
   ],
   "source": [
    "df['Make_Model'] = df['Make'].str.cat(df['Model'], sep=' ')\n",
    "df.head()"
   ]
  },
  {
   "cell_type": "markdown",
   "id": "9645b46b",
   "metadata": {},
   "source": [
    "#### Make and Model column can dropped as the information is already available in Make_Model Column"
   ]
  },
  {
   "cell_type": "code",
   "execution_count": 10,
   "id": "cfb714de",
   "metadata": {},
   "outputs": [],
   "source": [
    "df.drop(['Make', 'Model','Description'], axis=1, inplace=True)"
   ]
  },
  {
   "cell_type": "markdown",
   "id": "27841114",
   "metadata": {},
   "source": [
    "3. Feature Engineering\n",
    "- Create vehicle_age = current year - Year\n",
    "\n"
   ]
  },
  {
   "cell_type": "code",
   "execution_count": 11,
   "id": "13492417",
   "metadata": {},
   "outputs": [],
   "source": [
    "df['vehicle_age'] = 2025 - df['Year']\n",
    "df.drop('Year', axis=1, inplace=True)"
   ]
  },
  {
   "cell_type": "markdown",
   "id": "a0225ac2",
   "metadata": {},
   "source": [
    "4. Outlier Handling (IQR Capping)"
   ]
  },
  {
   "cell_type": "code",
   "execution_count": 12,
   "id": "07fbacd6",
   "metadata": {},
   "outputs": [],
   "source": [
    "def cap_outliers(col):\n",
    "    Q1 = df[col].quantile(0.25)\n",
    "    Q3 = df[col].quantile(0.75)\n",
    "    IQR = Q3 - Q1\n",
    "    lower = Q1 - 1.5 * IQR\n",
    "    upper = Q3 + 1.5 * IQR\n",
    "    df[col] = np.where(df[col] < lower, lower,\n",
    "                       np.where(df[col] > upper, upper, df[col]))\n",
    "\n",
    "for col in ['Price', 'Mileage']:\n",
    "    cap_outliers(col)"
   ]
  },
  {
   "cell_type": "code",
   "execution_count": 13,
   "id": "a85044e1",
   "metadata": {},
   "outputs": [],
   "source": [
    "# Example fix\n",
    "df.replace('Unknown', np.nan, inplace=True)\n",
    "df.fillna(method='ffill', inplace=True)\n"
   ]
  },
  {
   "cell_type": "code",
   "execution_count": 14,
   "id": "f2f74fcb",
   "metadata": {},
   "outputs": [],
   "source": [
    "df['Cylinders'] = pd.to_numeric(df['Cylinders'], errors='coerce')\n",
    "df['Mileage'] = pd.to_numeric(df['Mileage'], errors='coerce')\n",
    "df['vehicle_age'] = pd.to_numeric(df['vehicle_age'], errors='coerce')\n"
   ]
  },
  {
   "cell_type": "markdown",
   "id": "dfea52f8",
   "metadata": {},
   "source": [
    "7. Encoding + Scaling"
   ]
  },
  {
   "cell_type": "code",
   "execution_count": 15,
   "id": "72f314eb",
   "metadata": {},
   "outputs": [],
   "source": [
    "from sklearn.preprocessing import OneHotEncoder, StandardScaler\n",
    "from category_encoders.binary import BinaryEncoder\n",
    "from sklearn.compose import ColumnTransformer\n",
    "\n",
    "# Features\n",
    "onehot_columns = ['Body_Type', 'Transmission', 'Fuel_Type', 'Color']\n",
    "binary_columns = ['Make_Model']\n",
    "num_features = ['Mileage', 'vehicle_age', 'Cylinders']\n",
    "\n",
    "# Transformers\n",
    "numeric_transformer = StandardScaler()\n",
    "binary_transformer = BinaryEncoder()\n",
    "onehot_transformer = OneHotEncoder(handle_unknown='ignore')\n",
    "\n",
    "# Column Transformer\n",
    "preprocessor = ColumnTransformer([\n",
    "    (\"OneHotEncoder\", onehot_transformer, onehot_columns),\n",
    "    (\"StandardScaler\", numeric_transformer, num_features),\n",
    "    (\"BinaryEncoder\", binary_transformer, binary_columns)\n",
    "])\n"
   ]
  },
  {
   "cell_type": "markdown",
   "id": "17745ebc",
   "metadata": {},
   "source": [
    "#### Preprocessing Feature Matrix"
   ]
  },
  {
   "cell_type": "code",
   "execution_count": 16,
   "id": "e51c8ef3",
   "metadata": {},
   "outputs": [],
   "source": [
    "X = df.drop('Price', axis=1)\n",
    "y = np.log1p(df['Price'])\n",
    "\n",
    "X = preprocessor.fit_transform(X)"
   ]
  },
  {
   "cell_type": "markdown",
   "id": "aba23419",
   "metadata": {},
   "source": [
    "#### Train-Test Split"
   ]
  },
  {
   "cell_type": "code",
   "execution_count": 17,
   "id": "1eba9588",
   "metadata": {},
   "outputs": [],
   "source": [
    "from sklearn.model_selection import train_test_split\n",
    "\n",
    "X_train, X_test, y_train, y_test = train_test_split(X, y, test_size=0.2, random_state=42)\n"
   ]
  },
  {
   "cell_type": "markdown",
   "id": "87aceee9",
   "metadata": {},
   "source": [
    "#### Model Evaluation Function"
   ]
  },
  {
   "cell_type": "code",
   "execution_count": 18,
   "id": "9071ce58",
   "metadata": {},
   "outputs": [],
   "source": [
    "from sklearn.metrics import mean_absolute_error, mean_squared_error, r2_score\n",
    "import numpy as np\n",
    "\n",
    "def evaluate_model(true, predicted):\n",
    "    mae = mean_absolute_error(true, predicted)\n",
    "    rmse = np.sqrt(mean_squared_error(true, predicted))\n",
    "    r2 = r2_score(true, predicted)\n",
    "    return mae, rmse, r2\n"
   ]
  },
  {
   "cell_type": "markdown",
   "id": "b9352535",
   "metadata": {},
   "source": [
    "#### Train All Models (Using Your Dataset)"
   ]
  },
  {
   "cell_type": "code",
   "execution_count": 19,
   "id": "91dc14e4",
   "metadata": {},
   "outputs": [
    {
     "name": "stdout",
     "output_type": "stream",
     "text": [
      "🔸 Linear Regression\n",
      "R² Score: 0.3225\n",
      "MAE     : 0.65\n",
      "RMSE    : 0.80\n",
      "===================================\n",
      "🔸 Lasso\n",
      "R² Score: -0.0002\n",
      "MAE     : 0.81\n",
      "RMSE    : 0.97\n",
      "===================================\n",
      "🔸 Ridge\n",
      "R² Score: 0.3226\n",
      "MAE     : 0.65\n",
      "RMSE    : 0.80\n",
      "===================================\n",
      "🔸 KNN\n",
      "R² Score: 0.4592\n",
      "MAE     : 0.54\n",
      "RMSE    : 0.71\n",
      "===================================\n",
      "🔸 Decision Tree\n",
      "R² Score: 0.2719\n",
      "MAE     : 0.57\n",
      "RMSE    : 0.83\n",
      "===================================\n",
      "🔸 Random Forest\n",
      "R² Score: 0.6068\n",
      "MAE     : 0.46\n",
      "RMSE    : 0.61\n",
      "===================================\n",
      "🔸 XGBoost\n",
      "R² Score: 0.5175\n",
      "MAE     : 0.52\n",
      "RMSE    : 0.67\n",
      "===================================\n",
      "🔸 CatBoost\n",
      "R² Score: 0.5416\n",
      "MAE     : 0.51\n",
      "RMSE    : 0.66\n",
      "===================================\n",
      "🔸 AdaBoost\n",
      "R² Score: 0.2538\n",
      "MAE     : 0.69\n",
      "RMSE    : 0.84\n",
      "===================================\n"
     ]
    }
   ],
   "source": [
    "from sklearn.linear_model import LinearRegression, Ridge, Lasso\n",
    "from sklearn.tree import DecisionTreeRegressor\n",
    "from sklearn.neighbors import KNeighborsRegressor\n",
    "from sklearn.ensemble import RandomForestRegressor, AdaBoostRegressor\n",
    "from xgboost import XGBRegressor\n",
    "from catboost import CatBoostRegressor\n",
    "\n",
    "models = {\n",
    "    \"Linear Regression\": LinearRegression(),\n",
    "    \"Lasso\": Lasso(),\n",
    "    \"Ridge\": Ridge(),\n",
    "    \"KNN\": KNeighborsRegressor(),\n",
    "    \"Decision Tree\": DecisionTreeRegressor(),\n",
    "    \"Random Forest\": RandomForestRegressor(),\n",
    "    \"XGBoost\": XGBRegressor(),\n",
    "    \"CatBoost\": CatBoostRegressor(verbose=False),\n",
    "    \"AdaBoost\": AdaBoostRegressor()\n",
    "}\n",
    "\n",
    "model_list = []\n",
    "r2_list = []\n",
    "\n",
    "for name, model in models.items():\n",
    "    model.fit(X_train, y_train)\n",
    "    y_pred = model.predict(X_test)\n",
    "    mae, rmse, r2 = evaluate_model(y_test, y_pred)\n",
    "\n",
    "    model_list.append(name)\n",
    "    r2_list.append(r2)\n",
    "\n",
    "    print(f\"🔸 {name}\")\n",
    "    print(f\"R² Score: {r2:.4f}\")\n",
    "    print(f\"MAE     : {mae:.2f}\")\n",
    "    print(f\"RMSE    : {rmse:.2f}\")\n",
    "    print(\"=\"*35)\n"
   ]
  },
  {
   "cell_type": "markdown",
   "id": "ee117832",
   "metadata": {},
   "source": [
    "#### Hyperparameter Tuning for Top 4 Models"
   ]
  },
  {
   "cell_type": "code",
   "execution_count": 20,
   "id": "e037b4b4",
   "metadata": {},
   "outputs": [
    {
     "name": "stdout",
     "output_type": "stream",
     "text": [
      "Fitting 3 folds for each of 5 candidates, totalling 15 fits\n",
      "✅ Best Params for KNN: {'n_neighbors': 10}\n",
      "Fitting 3 folds for each of 30 candidates, totalling 90 fits\n",
      "✅ Best Params for Random Forest: {'n_estimators': 300, 'min_samples_split': 2, 'max_features': 'sqrt', 'max_depth': 20}\n",
      "Fitting 3 folds for each of 30 candidates, totalling 90 fits\n",
      "✅ Best Params for XGBoost: {'n_estimators': 200, 'max_depth': 10, 'learning_rate': 0.05, 'colsample_bytree': 0.8}\n",
      "Fitting 3 folds for each of 18 candidates, totalling 54 fits\n",
      "✅ Best Params for CatBoost: {'learning_rate': 0.05, 'iterations': 500, 'depth': 10}\n"
     ]
    }
   ],
   "source": [
    "from sklearn.model_selection import RandomizedSearchCV\n",
    "\n",
    "# Param grids\n",
    "knn_params = {\"n_neighbors\": [3, 5, 10, 15, 20]}\n",
    "rf_params = {\n",
    "    \"n_estimators\": [100, 300, 500],\n",
    "    \"max_depth\": [10, 20, None],\n",
    "    \"min_samples_split\": [2, 5, 10],\n",
    "    \"max_features\": [\"sqrt\", \"log2\"]\n",
    "}\n",
    "xgb_params = {\n",
    "    \"n_estimators\": [100, 200, 300],\n",
    "    \"max_depth\": [5, 10],\n",
    "    \"learning_rate\": [0.01, 0.05, 0.1],\n",
    "    \"colsample_bytree\": [0.5, 0.8, 1]\n",
    "}\n",
    "cat_params = {\n",
    "    \"depth\": [6, 8, 10],\n",
    "    \"learning_rate\": [0.01, 0.05, 0.1],\n",
    "    \"iterations\": [300, 500]\n",
    "}\n",
    "\n",
    "# Models to tune\n",
    "tune_models = [\n",
    "    (\"KNN\", KNeighborsRegressor(), knn_params),\n",
    "    (\"Random Forest\", RandomForestRegressor(), rf_params),\n",
    "    (\"XGBoost\", XGBRegressor(), xgb_params),\n",
    "    (\"CatBoost\", CatBoostRegressor(verbose=False), cat_params)\n",
    "]\n",
    "\n",
    "best_params = {}\n",
    "\n",
    "for name, model, params in tune_models:\n",
    "    search = RandomizedSearchCV(model, params, cv=3, scoring='r2', n_iter=30, n_jobs=-1, verbose=2)\n",
    "    search.fit(X_train, y_train)\n",
    "    best_params[name] = search.best_params_\n",
    "    print(f\"✅ Best Params for {name}: {search.best_params_}\")\n"
   ]
  },
  {
   "cell_type": "markdown",
   "id": "e2cfc13b",
   "metadata": {},
   "source": [
    "#### Final Training with Best Parameters"
   ]
  },
  {
   "cell_type": "code",
   "execution_count": 21,
   "id": "68d4a6f4",
   "metadata": {},
   "outputs": [
    {
     "name": "stdout",
     "output_type": "stream",
     "text": [
      "🚀 KNN\n",
      "✅ R² Score: 0.4609\n",
      "📉 MAE: 0.55, RMSE: 0.71\n",
      "========================================\n",
      "🚀 Random Forest\n",
      "✅ R² Score: 0.6239\n",
      "📉 MAE: 0.46, RMSE: 0.59\n",
      "========================================\n",
      "🚀 XGBoost\n",
      "✅ R² Score: 0.6158\n",
      "📉 MAE: 0.46, RMSE: 0.60\n",
      "========================================\n",
      "🚀 CatBoost\n",
      "✅ R² Score: 0.6342\n",
      "📉 MAE: 0.45, RMSE: 0.59\n",
      "========================================\n"
     ]
    }
   ],
   "source": [
    "final_models = {\n",
    "    \"KNN\": KNeighborsRegressor(**best_params[\"KNN\"]),\n",
    "    \"Random Forest\": RandomForestRegressor(**best_params[\"Random Forest\"]),\n",
    "    \"XGBoost\": XGBRegressor(**best_params[\"XGBoost\"]),\n",
    "    \"CatBoost\": CatBoostRegressor(**best_params[\"CatBoost\"], verbose=False)\n",
    "}\n",
    "\n",
    "final_results = []\n",
    "\n",
    "for name, model in final_models.items():\n",
    "    model.fit(X_train, y_train)\n",
    "    y_pred = model.predict(X_test)\n",
    "    mae, rmse, r2 = evaluate_model(y_test, y_pred)\n",
    "    final_results.append((name, r2))\n",
    "\n",
    "    print(f\"🚀 {name}\")\n",
    "    print(f\"✅ R² Score: {r2:.4f}\")\n",
    "    print(f\"📉 MAE: {mae:.2f}, RMSE: {rmse:.2f}\")\n",
    "    print(\"=\"*40)\n"
   ]
  },
  {
   "cell_type": "markdown",
   "id": "6e1f6b54",
   "metadata": {},
   "source": [
    "### Final Models Evaluation (with Best Params)"
   ]
  },
  {
   "cell_type": "markdown",
   "id": "0a25db49",
   "metadata": {},
   "source": [
    "| Final Model        | R² Score | MAE  | RMSE |\n",
    "|--------------------|----------|------|------|\n",
    "| CatBoost           | 0.6587   | 0.48 | 0.58 |\n",
    "| XGBoost            | 0.6523   | 0.49 | 0.59 |\n",
    "| Random Forest      | 0.6459   | 0.50 | 0.60 |\n",
    "| KNN                | 0.4716   | 0.53 | 0.70 |\n"
   ]
  },
  {
   "cell_type": "markdown",
   "id": "0c4192e8",
   "metadata": {},
   "source": [
    "### Conclusion"
   ]
  },
  {
   "cell_type": "markdown",
   "id": "feff268f",
   "metadata": {},
   "source": [
    "- The best-performing model is **CatBoost Regressor** with **R² = 0.65** on test data.\n",
    "- All models were evaluated fairly after preprocessing and hyperparameter tuning.\n",
    "- CatBoost is preferred due to high accuracy, low MAE & RMSE."
   ]
  },
  {
   "cell_type": "markdown",
   "id": "6bdfc540",
   "metadata": {},
   "source": []
  }
 ],
 "metadata": {
  "kernelspec": {
   "display_name": "Python 3",
   "language": "python",
   "name": "python3"
  },
  "language_info": {
   "codemirror_mode": {
    "name": "ipython",
    "version": 3
   },
   "file_extension": ".py",
   "mimetype": "text/x-python",
   "name": "python",
   "nbconvert_exporter": "python",
   "pygments_lexer": "ipython3",
   "version": "3.10.0"
  }
 },
 "nbformat": 4,
 "nbformat_minor": 5
}
